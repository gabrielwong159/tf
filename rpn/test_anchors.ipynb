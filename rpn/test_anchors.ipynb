{
 "cells": [
  {
   "cell_type": "code",
   "execution_count": 1,
   "metadata": {},
   "outputs": [
    {
     "name": "stderr",
     "output_type": "stream",
     "text": [
      "/home/taiger/anaconda3/lib/python3.6/site-packages/h5py/__init__.py:36: FutureWarning: Conversion of the second argument of issubdtype from `float` to `np.floating` is deprecated. In future, it will be treated as `np.float64 == np.dtype(float).type`.\n",
      "  from ._conv import register_converters as _register_converters\n"
     ]
    }
   ],
   "source": [
    "%matplotlib inline\n",
    "import numpy as np\n",
    "import matplotlib.pyplot as plt\n",
    "import cv2\n",
    "import tensorflow as tf\n",
    "from tensorflow.examples.tutorials.mnist import input_data"
   ]
  },
  {
   "cell_type": "code",
   "execution_count": 2,
   "metadata": {},
   "outputs": [],
   "source": [
    "import utils"
   ]
  },
  {
   "cell_type": "code",
   "execution_count": 3,
   "metadata": {},
   "outputs": [],
   "source": [
    "np.random.seed(1)\n",
    "tf.set_random_seed(1)"
   ]
  },
  {
   "cell_type": "code",
   "execution_count": 4,
   "metadata": {
    "collapsed": true
   },
   "outputs": [
    {
     "name": "stdout",
     "output_type": "stream",
     "text": [
      "WARNING:tensorflow:From <ipython-input-4-15eb6d06e3a2>:1: read_data_sets (from tensorflow.contrib.learn.python.learn.datasets.mnist) is deprecated and will be removed in a future version.\n",
      "Instructions for updating:\n",
      "Please use alternatives such as official/mnist/dataset.py from tensorflow/models.\n",
      "WARNING:tensorflow:From /home/taiger/anaconda3/lib/python3.6/site-packages/tensorflow/contrib/learn/python/learn/datasets/mnist.py:260: maybe_download (from tensorflow.contrib.learn.python.learn.datasets.base) is deprecated and will be removed in a future version.\n",
      "Instructions for updating:\n",
      "Please write your own downloading logic.\n",
      "WARNING:tensorflow:From /home/taiger/anaconda3/lib/python3.6/site-packages/tensorflow/contrib/learn/python/learn/datasets/mnist.py:262: extract_images (from tensorflow.contrib.learn.python.learn.datasets.mnist) is deprecated and will be removed in a future version.\n",
      "Instructions for updating:\n",
      "Please use tf.data to implement this functionality.\n",
      "Extracting data/train-images-idx3-ubyte.gz\n",
      "WARNING:tensorflow:From /home/taiger/anaconda3/lib/python3.6/site-packages/tensorflow/contrib/learn/python/learn/datasets/mnist.py:267: extract_labels (from tensorflow.contrib.learn.python.learn.datasets.mnist) is deprecated and will be removed in a future version.\n",
      "Instructions for updating:\n",
      "Please use tf.data to implement this functionality.\n",
      "Extracting data/train-labels-idx1-ubyte.gz\n",
      "Extracting data/t10k-images-idx3-ubyte.gz\n",
      "Extracting data/t10k-labels-idx1-ubyte.gz\n",
      "WARNING:tensorflow:From /home/taiger/anaconda3/lib/python3.6/site-packages/tensorflow/contrib/learn/python/learn/datasets/mnist.py:290: DataSet.__init__ (from tensorflow.contrib.learn.python.learn.datasets.mnist) is deprecated and will be removed in a future version.\n",
      "Instructions for updating:\n",
      "Please use alternatives such as official/mnist/dataset.py from tensorflow/models.\n"
     ]
    }
   ],
   "source": [
    "mnist = input_data.read_data_sets('data/', one_hot=False)"
   ]
  },
  {
   "cell_type": "code",
   "execution_count": 5,
   "metadata": {},
   "outputs": [
    {
     "data": {
      "text/plain": [
       "2"
      ]
     },
     "execution_count": 5,
     "metadata": {},
     "output_type": "execute_result"
    }
   ],
   "source": [
    "n_crops = np.random.randint(1, 5)\n",
    "n_crops"
   ]
  },
  {
   "cell_type": "code",
   "execution_count": 6,
   "metadata": {
    "scrolled": true
   },
   "outputs": [
    {
     "data": {
      "text/plain": [
       "(array([9, 9]), array([[108, 156, 124, 190],\n",
       "        [157, 130, 190, 163]]))"
      ]
     },
     "execution_count": 6,
     "metadata": {},
     "output_type": "execute_result"
    },
    {
     "data": {
      "image/png": "[encoded data removed]",
      "text/plain": [
       "<matplotlib.figure.Figure at 0x7fd77af31f28>"
      ]
     },
     "metadata": {},
     "output_type": "display_data"
    }
   ],
   "source": [
    "# use [y1, x1, y2, x2] as per original R-CNN trilogy\n",
    "def make_crop(image):\n",
    "    scale = np.random.uniform(0.5, 1.5, size=[2])\n",
    "    w, h = (scale * 28).astype(np.int64)\n",
    "    x = np.random.randint(image.shape[1] - w)\n",
    "    y = np.random.randint(image.shape[0] - h)\n",
    "    return y, x, y+h, x+w\n",
    "\n",
    "def add_crop(image):\n",
    "    crop, label = mnist.train.next_batch(1)\n",
    "    crop = crop.reshape([28, 28])\n",
    "\n",
    "    y1, x1, y2, x2 = make_crop(image)\n",
    "    crop = cv2.resize(crop, (x2-x1, y2-y1))\n",
    "\n",
    "    image[y1:y2, x1:x2] = crop\n",
    "    return int(label), [y1, x1, y2, x2]\n",
    "\n",
    "image = np.zeros([224, 224], np.float32)\n",
    "gt_cls, gt_boxes = zip(*[add_crop(image) for i in range(n_crops)])\n",
    "gt_cls, gt_boxes = map(np.array, (gt_cls, gt_boxes))\n",
    "\n",
    "plt.imshow(image, cmap='gray')\n",
    "gt_cls, gt_boxes"
   ]
  },
  {
   "cell_type": "code",
   "execution_count": 7,
   "metadata": {},
   "outputs": [],
   "source": [
    "scales = [8, 16, 32, 64]\n",
    "ratios = [0.5, 1.0, 2.0]\n",
    "backbone_shapes = np.array([\n",
    "    [56, 56],\n",
    "    [28, 28],\n",
    "    [14, 14],\n",
    "    [7, 7],\n",
    "])\n",
    "strides = [4, 8, 16, 32]\n",
    "anchors_per_cell = len(ratios)"
   ]
  },
  {
   "cell_type": "code",
   "execution_count": 8,
   "metadata": {},
   "outputs": [
    {
     "data": {
      "text/plain": [
       "([37632, 9408, 2352, 588], 49980)"
      ]
     },
     "execution_count": 8,
     "metadata": {},
     "output_type": "execute_result"
    }
   ],
   "source": [
    "anchors = [utils.generate_anchors(scales, ratios, shape, stride, 1) for shape, stride in zip(backbone_shapes, strides)]\n",
    "anchors_per_level = [len(l) for l in anchors]\n",
    "anchors = np.concatenate(anchors, axis=0)\n",
    "anchors_per_level, sum(anchors_per_level)"
   ]
  },
  {
   "cell_type": "code",
   "execution_count": 9,
   "metadata": {},
   "outputs": [
    {
     "data": {
      "text/plain": [
       "array([0.  , 0.01, 0.02, 0.03, 0.04, 0.05, 0.06, 0.07, 0.08, 0.09, 0.1 ,\n",
       "       0.11, 0.12, 0.13, 0.14, 0.15, 0.16, 0.17, 0.18, 0.19, 0.2 , 0.21,\n",
       "       0.22, 0.23, 0.24, 0.25, 0.26, 0.27, 0.28, 0.29, 0.3 , 0.31, 0.32,\n",
       "       0.33, 0.34, 0.35, 0.36, 0.37, 0.38, 0.39, 0.4 , 0.41, 0.43, 0.44,\n",
       "       0.45, 0.47, 0.48, 0.5 , 0.53])"
      ]
     },
     "execution_count": 9,
     "metadata": {},
     "output_type": "execute_result"
    }
   ],
   "source": [
    "ious = utils.iou(gt_boxes[0], anchors)\n",
    "np.unique(np.round(ious, 2))"
   ]
  },
  {
   "cell_type": "code",
   "execution_count": 11,
   "metadata": {},
   "outputs": [
    {
     "data": {
      "image/png": "[encoded data removed]",
      "text/plain": [
       "<matplotlib.figure.Figure at 0x7fd77a3b14a8>"
      ]
     },
     "metadata": {},
     "output_type": "display_data"
    }
   ],
   "source": [
    "tmp = cv2.merge([(image * 255).astype(np.uint8)] * 3)\n",
    "for y1, x1, y2, x2 in anchors[ious > 0.5]:\n",
    "    x1 = int(np.maximum(0., x1))\n",
    "    y1 = int(np.maximum(0., y1))\n",
    "    x2 = int(np.minimum(224., x2))\n",
    "    y2 = int(np.minimum(224., y2))\n",
    "    cv2.rectangle(tmp, (x1, y1), (x2, y2), (0, 255, 0), 1)\n",
    "for y1, x1, y2, x2 in gt_boxes:\n",
    "    cv2.rectangle(tmp, (x1, y1), (x2, y2), (255, 0, 0, 3))\n",
    "plt.figure(figsize=(10, 10))\n",
    "plt.imshow(tmp);"
   ]
  }
 ],
 "metadata": {
  "kernelspec": {
   "display_name": "Python 3",
   "language": "python",
   "name": "python3"
  },
  "language_info": {
   "codemirror_mode": {
    "name": "ipython",
    "version": 3
   },
   "file_extension": ".py",
   "mimetype": "text/x-python",
   "name": "python",
   "nbconvert_exporter": "python",
   "pygments_lexer": "ipython3",
   "version": "3.6.4"
  }
 },
 "nbformat": 4,
 "nbformat_minor": 2
}
