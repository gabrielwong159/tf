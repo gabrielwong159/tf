{
 "cells": [
  {
   "cell_type": "code",
   "execution_count": 1,
   "metadata": {},
   "outputs": [
    {
     "name": "stderr",
     "output_type": "stream",
     "text": [
      "/home/taiger/anaconda3/lib/python3.6/site-packages/h5py/__init__.py:36: FutureWarning: Conversion of the second argument of issubdtype from `float` to `np.floating` is deprecated. In future, it will be treated as `np.float64 == np.dtype(float).type`.\n",
      "  from ._conv import register_converters as _register_converters\n"
     ]
    }
   ],
   "source": [
    "%matplotlib inline\n",
    "import numpy as np\n",
    "import matplotlib.pyplot as plt\n",
    "import matplotlib.patches as mpatches\n",
    "import cv2\n",
    "import tensorflow as tf\n",
    "from ipywidgets import interact, IntSlider, Layout"
   ]
  },
  {
   "cell_type": "code",
   "execution_count": 2,
   "metadata": {},
   "outputs": [
    {
     "name": "stdout",
     "output_type": "stream",
     "text": [
      "WARNING:tensorflow:From /mnt/sdb1/gabriel/gabriel/tf/rpn/datagen.py:12: read_data_sets (from tensorflow.contrib.learn.python.learn.datasets.mnist) is deprecated and will be removed in a future version.\n",
      "Instructions for updating:\n",
      "Please use alternatives such as official/mnist/dataset.py from tensorflow/models.\n",
      "WARNING:tensorflow:From /home/taiger/anaconda3/lib/python3.6/site-packages/tensorflow/contrib/learn/python/learn/datasets/mnist.py:260: maybe_download (from tensorflow.contrib.learn.python.learn.datasets.base) is deprecated and will be removed in a future version.\n",
      "Instructions for updating:\n",
      "Please write your own downloading logic.\n",
      "WARNING:tensorflow:From /home/taiger/anaconda3/lib/python3.6/site-packages/tensorflow/contrib/learn/python/learn/datasets/mnist.py:262: extract_images (from tensorflow.contrib.learn.python.learn.datasets.mnist) is deprecated and will be removed in a future version.\n",
      "Instructions for updating:\n",
      "Please use tf.data to implement this functionality.\n",
      "Extracting data/train-images-idx3-ubyte.gz\n",
      "WARNING:tensorflow:From /home/taiger/anaconda3/lib/python3.6/site-packages/tensorflow/contrib/learn/python/learn/datasets/mnist.py:267: extract_labels (from tensorflow.contrib.learn.python.learn.datasets.mnist) is deprecated and will be removed in a future version.\n",
      "Instructions for updating:\n",
      "Please use tf.data to implement this functionality.\n",
      "Extracting data/train-labels-idx1-ubyte.gz\n",
      "Extracting data/t10k-images-idx3-ubyte.gz\n",
      "Extracting data/t10k-labels-idx1-ubyte.gz\n",
      "WARNING:tensorflow:From /home/taiger/anaconda3/lib/python3.6/site-packages/tensorflow/contrib/learn/python/learn/datasets/mnist.py:290: DataSet.__init__ (from tensorflow.contrib.learn.python.learn.datasets.mnist) is deprecated and will be removed in a future version.\n",
      "Instructions for updating:\n",
      "Please use alternatives such as official/mnist/dataset.py from tensorflow/models.\n"
     ]
    }
   ],
   "source": [
    "import datagen\n",
    "import utils\n",
    "from model import RPN"
   ]
  },
  {
   "cell_type": "code",
   "execution_count": 3,
   "metadata": {},
   "outputs": [],
   "source": [
    "def nms(boxes, scores, thresh=0.3):\n",
    "    \"\"\"\n",
    "    Non-maximum suppression removes overlapping bounding boxes\n",
    "    Implementation from:\n",
    "        https://www.pyimagesearch.com/2015/02/16/faster-non-maximum-suppression-python/\n",
    "\n",
    "    Parameters:\n",
    "        thresh: Fraction of overlap to be considered part of the same box\n",
    "        \n",
    "    Returns:\n",
    "        Indices of the boxes to be kept\n",
    "    \"\"\"\n",
    "    if len(boxes) == 0:\n",
    "        return []\n",
    "\n",
    "    y1, x1, y2, x2 = boxes.transpose()\n",
    "\n",
    "    idxs = np.argsort(scores)\n",
    "    picks = []\n",
    "\n",
    "    while len(idxs) > 0:\n",
    "        idx = idxs[-1]\n",
    "        picks.append(idx)\n",
    "\n",
    "        xx1 = np.maximum(x1[idx], x1[idxs[:-1]])\n",
    "        yy1 = np.maximum(y1[idx], y1[idxs[:-1]])\n",
    "        xx2 = np.minimum(x2[idx], x2[idxs[:-1]])\n",
    "        yy2 = np.minimum(y2[idx], y2[idxs[:-1]])\n",
    "\n",
    "        w = np.maximum(0, xx2 - xx1 + 1)\n",
    "        h = np.maximum(0, yy2 - yy1 + 1)\n",
    "        area = (x2 - x1 + 1) * (y2 - y1 + 1)\n",
    "        overlap = (w * h) / area[idxs[:-1]]\n",
    "\n",
    "        to_delete = np.append(np.where(overlap > thresh)[0], len(idxs) - 1)\n",
    "        idxs = np.delete(idxs, to_delete)\n",
    "\n",
    "    return np.array(picks)"
   ]
  },
  {
   "cell_type": "code",
   "execution_count": 5,
   "metadata": {
    "scrolled": true
   },
   "outputs": [
    {
     "name": "stdout",
     "output_type": "stream",
     "text": [
      "INFO:tensorflow:Restoring parameters from model/l1_loss/lr0.001_batch32_iters12000/model\n"
     ]
    }
   ],
   "source": [
    "model_path = 'model/l1_loss/lr0.001_batch32_iters12000/model'\n",
    "\n",
    "tf.reset_default_graph()\n",
    "model = RPN()\n",
    "saver = tf.train.Saver()\n",
    "sess = tf.Session()\n",
    "saver.restore(sess, model_path)"
   ]
  },
  {
   "cell_type": "code",
   "execution_count": 6,
   "metadata": {
    "scrolled": true
   },
   "outputs": [
    {
     "data": {
      "text/plain": [
       "array([[[ 0.7309417 ,  0.08520179,  0.9103139 ,  0.21076234],\n",
       "        [ 0.04035874,  0.03587444,  0.11210762,  0.18834081],\n",
       "        [-0.00448431, -0.00448431, -0.00896861, -0.00896861],\n",
       "        [-0.00448431, -0.00448431, -0.00896861, -0.00896861]],\n",
       "\n",
       "       [[ 0.03587444,  0.49775785,  0.11210762,  0.6591928 ],\n",
       "        [ 0.4618834 ,  0.30493274,  0.5336323 ,  0.48430493],\n",
       "        [ 0.54260087,  0.75784755,  0.69058293,  0.8251121 ],\n",
       "        [ 0.6502242 ,  0.6547085 ,  0.76233184,  0.77578473]],\n",
       "\n",
       "       [[ 0.85650223,  0.7399103 ,  0.9865471 ,  0.9013453 ],\n",
       "        [ 0.17040358,  0.05829597,  0.2735426 ,  0.20627803],\n",
       "        [-0.00448431, -0.00448431, -0.00896861, -0.00896861],\n",
       "        [-0.00448431, -0.00448431, -0.00896861, -0.00896861]],\n",
       "\n",
       "       [[ 0.12556054,  0.60089684,  0.1838565 ,  0.7264574 ],\n",
       "        [ 0.38565022,  0.4529148 ,  0.50224215,  0.6098655 ],\n",
       "        [ 0.39910313,  0.3632287 ,  0.51121074,  0.51121074],\n",
       "        [-0.00448431, -0.00448431, -0.00896861, -0.00896861]],\n",
       "\n",
       "       [[ 0.8116592 ,  0.29147983,  0.96860987,  0.39910313],\n",
       "        [-0.00448431, -0.00448431, -0.00896861, -0.00896861],\n",
       "        [-0.00448431, -0.00448431, -0.00896861, -0.00896861],\n",
       "        [-0.00448431, -0.00448431, -0.00896861, -0.00896861]],\n",
       "\n",
       "       [[ 0.68609864,  0.50224215,  0.76233184,  0.57399106],\n",
       "        [ 0.25560537,  0.01345291,  0.37668163,  0.10762332],\n",
       "        [-0.00448431, -0.00448431, -0.00896861, -0.00896861],\n",
       "        [-0.00448431, -0.00448431, -0.00896861, -0.00896861]],\n",
       "\n",
       "       [[ 0.83856505,  0.4529148 ,  0.96860987,  0.54260087],\n",
       "        [ 0.14798206,  0.7802691 ,  0.2735426 ,  0.9551569 ],\n",
       "        [-0.00448431, -0.00448431, -0.00896861, -0.00896861],\n",
       "        [-0.00448431, -0.00448431, -0.00896861, -0.00896861]],\n",
       "\n",
       "       [[ 0.09417041,  0.5605381 ,  0.24663678,  0.62780267],\n",
       "        [ 0.8340807 ,  0.62780267,  0.9058296 ,  0.7802691 ],\n",
       "        [-0.00448431, -0.00448431, -0.00896861, -0.00896861],\n",
       "        [-0.00448431, -0.00448431, -0.00896861, -0.00896861]]],\n",
       "      dtype=float32)"
      ]
     },
     "execution_count": 6,
     "metadata": {},
     "output_type": "execute_result"
    }
   ],
   "source": [
    "images, gt_cls, gt_boxes = datagen.generate_batch(batch_size=8, train=False)\n",
    "feed_dict = {\n",
    "    model.images: images.reshape([-1, 224, 224, 3])\n",
    "}\n",
    "gt_boxes"
   ]
  },
  {
   "cell_type": "code",
   "execution_count": 7,
   "metadata": {
    "scrolled": true
   },
   "outputs": [
    {
     "data": {
      "text/plain": [
       "((8, 49980, 4), (8, 49980, 2))"
      ]
     },
     "execution_count": 7,
     "metadata": {},
     "output_type": "execute_result"
    }
   ],
   "source": [
    "bboxes, probs = sess.run([model.bboxes, model.cls_probs], feed_dict)\n",
    "anchors = sess.run(model.anchors, feed_dict)\n",
    "scores = probs[:, :, 1]\n",
    "bboxes.shape, probs.shape"
   ]
  },
  {
   "cell_type": "code",
   "execution_count": 8,
   "metadata": {},
   "outputs": [
    {
     "data": {
      "text/plain": [
       "((8, 49980, 4), (49980, 4), (8, 49980, 2))"
      ]
     },
     "execution_count": 8,
     "metadata": {},
     "output_type": "execute_result"
    }
   ],
   "source": [
    "bboxes, anchors, probs = sess.run([model.bboxes, model.anchors, model.cls_probs], feed_dict)\n",
    "scores = probs[:, :, 1]\n",
    "bboxes.shape, anchors.shape, probs.shape"
   ]
  },
  {
   "cell_type": "code",
   "execution_count": 9,
   "metadata": {
    "scrolled": true
   },
   "outputs": [
    {
     "data": {
      "text/plain": [
       "((644, 4), (644, 4), (644,))"
      ]
     },
     "execution_count": 9,
     "metadata": {},
     "output_type": "execute_result"
    }
   ],
   "source": [
    "idx = 0\n",
    "pos = scores[idx] > 0.5\n",
    "_bboxes = bboxes[idx][pos]\n",
    "_anchors = anchors[pos]\n",
    "_scores = scores[idx][pos]\n",
    "_bboxes.shape, _anchors.shape, _scores.shape"
   ]
  },
  {
   "cell_type": "code",
   "execution_count": 10,
   "metadata": {},
   "outputs": [
    {
     "data": {
      "text/plain": [
       "((2, 4), (2, 4), (2,))"
      ]
     },
     "execution_count": 10,
     "metadata": {},
     "output_type": "execute_result"
    }
   ],
   "source": [
    "indices = nms(_bboxes, _scores, thresh=0.5)\n",
    "_bboxes = _bboxes[indices]\n",
    "_anchors = _anchors[indices]\n",
    "_scores = _scores[indices]\n",
    "_bboxes.shape, _anchors.shape, _scores.shape"
   ]
  },
  {
   "cell_type": "code",
   "execution_count": 11,
   "metadata": {},
   "outputs": [],
   "source": [
    "_bboxes = utils.denorm_boxes(_bboxes, [RPN.h, RPN.w])\n",
    "_anchors = utils.denorm_boxes(_anchors, [RPN.h, RPN.w])"
   ]
  },
  {
   "cell_type": "code",
   "execution_count": 12,
   "metadata": {},
   "outputs": [
    {
     "data": {
      "image/png": "[encoded data removed]",
      "text/plain": [
       "<matplotlib.figure.Figure at 0x7f288455c240>"
      ]
     },
     "metadata": {},
     "output_type": "display_data"
    }
   ],
   "source": [
    "viz = images[idx].copy()\n",
    "for y1, x1, y2, x2 in _anchors:\n",
    "    cv2.rectangle(viz, (x1, y1), (x2, y2), (1, 0, 0), 1)\n",
    "for y1, x1, y2, x2 in _bboxes:\n",
    "    cv2.rectangle(viz, (x1, y1), (x2, y2), (0, 1, 0), 1)\n",
    "\n",
    "plt.figure(figsize=(10, 10))\n",
    "plt.legend(handles=[\n",
    "    mpatches.Patch(color=(1, 0, 0), label='Original anchors'),\n",
    "    mpatches.Patch(color=(0, 1, 0), label='Transformed anchors')\n",
    "])\n",
    "plt.imshow(viz);"
   ]
  },
  {
   "cell_type": "code",
   "execution_count": 13,
   "metadata": {},
   "outputs": [
    {
     "data": {
      "image/png": "[encoded data removed]",
      "text/plain": [
       "<matplotlib.figure.Figure at 0x7f2898419358>"
      ]
     },
     "metadata": {},
     "output_type": "display_data"
    }
   ],
   "source": [
    "def evaluate(idx):\n",
    "    pos = scores[idx] > 0.5\n",
    "    _bboxes = bboxes[idx][pos]\n",
    "    _anchors = anchors[pos]\n",
    "    _scores = scores[idx][pos]\n",
    "    \n",
    "    indices = nms(_bboxes, _scores, thresh=0.5)\n",
    "    _bboxes = _bboxes[indices]\n",
    "    _anchors = _anchors[indices]\n",
    "    _scores = _scores[indices]\n",
    "    \n",
    "    _bboxes = utils.denorm_boxes(_bboxes, [RPN.h, RPN.w])\n",
    "    _anchors = utils.denorm_boxes(_anchors, [RPN.h, RPN.w])\n",
    "    \n",
    "    viz = images[idx].copy()\n",
    "    for y1, x1, y2, x2 in _anchors:\n",
    "        cv2.rectangle(viz, (x1, y1), (x2, y2), (1, 0, 0), 1)\n",
    "    for y1, x1, y2, x2 in _bboxes:\n",
    "        cv2.rectangle(viz, (x1, y1), (x2, y2), (0, 1, 0), 1)\n",
    "\n",
    "    plt.subplot(2, 4, idx+1)\n",
    "    plt.imshow(viz)\n",
    "    \n",
    "plt.figure(figsize=(20, 10))\n",
    "for i in range(8):\n",
    "    evaluate(i)\n",
    "plt.show();"
   ]
  },
  {
   "cell_type": "code",
   "execution_count": null,
   "metadata": {},
   "outputs": [],
   "source": []
  }
 ],
 "metadata": {
  "kernelspec": {
   "display_name": "Python 3",
   "language": "python",
   "name": "python3"
  },
  "language_info": {
   "codemirror_mode": {
    "name": "ipython",
    "version": 3
   },
   "file_extension": ".py",
   "mimetype": "text/x-python",
   "name": "python",
   "nbconvert_exporter": "python",
   "pygments_lexer": "ipython3",
   "version": "3.6.4"
  }
 },
 "nbformat": 4,
 "nbformat_minor": 2
}
