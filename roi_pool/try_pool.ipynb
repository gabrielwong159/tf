{
 "cells": [
  {
   "cell_type": "markdown",
   "metadata": {},
   "source": [
    "Let $i$ and $o$ be the input and output sizes respectively.  \n",
    "$k$ is the kernel size, $s$ is the stride, and $p$ is the amount of padding.\n",
    "\n",
    "$$ o = \\frac{i - k + 2p}{s} + 1 $$\n",
    "\n",
    "$$ s = \\left \\lfloor{\\frac{i}{o}}\\right \\rfloor $$\n",
    "$$ i = k + s \\cdot (o-1) - 2p $$"
   ]
  },
  {
   "cell_type": "code",
   "execution_count": 1,
   "metadata": {},
   "outputs": [],
   "source": [
    "import numpy as np\n",
    "import tensorflow as tf\n",
    "import tensorflow.contrib.slim as slim"
   ]
  },
  {
   "cell_type": "code",
   "execution_count": 2,
   "metadata": {
    "scrolled": false
   },
   "outputs": [],
   "source": [
    "def compute(w, o=8):\n",
    "    s = w // o\n",
    "    k = w - s * (o-1)\n",
    "    \n",
    "    img = np.zeros([1, w, w, 1])\n",
    "    t = slim.max_pool2d(img, [k, k], stride=s, padding='valid')\n",
    "    shape = t.get_shape().as_list()\n",
    "    assert shape == [1, 8, 8, 1]\n",
    "\n",
    "for i in range(8, 1000):\n",
    "    compute(i)\n",
    "tf.reset_default_graph()    "
   ]
  }
 ],
 "metadata": {
  "kernelspec": {
   "display_name": "Python 3",
   "language": "python",
   "name": "python3"
  },
  "language_info": {
   "codemirror_mode": {
    "name": "ipython",
    "version": 3
   },
   "file_extension": ".py",
   "mimetype": "text/x-python",
   "name": "python",
   "nbconvert_exporter": "python",
   "pygments_lexer": "ipython3",
   "version": "3.6.7"
  }
 },
 "nbformat": 4,
 "nbformat_minor": 2
}
